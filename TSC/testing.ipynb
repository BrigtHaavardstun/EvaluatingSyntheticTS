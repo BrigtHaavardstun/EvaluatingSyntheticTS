{
 "cells": [
  {
   "cell_type": "code",
   "id": "initial_id",
   "metadata": {
    "collapsed": true,
    "ExecuteTime": {
     "end_time": "2025-08-12T12:52:57.925667Z",
     "start_time": "2025-08-12T12:52:57.279018Z"
    }
   },
   "source": [
    "import numpy as np\n",
    "import pandas as pd\n",
    "\n",
    "# Increase display width\n",
    "pd.set_option(\"display.width\", 1000)"
   ],
   "outputs": [],
   "execution_count": 1
  },
  {
   "metadata": {
    "ExecuteTime": {
     "end_time": "2025-08-12T12:53:06.081596Z",
     "start_time": "2025-08-12T12:52:57.936305Z"
    }
   },
   "cell_type": "code",
   "source": "!pip install sktime",
   "id": "cc6a704364e5f32",
   "outputs": [
    {
     "name": "stdout",
     "output_type": "stream",
     "text": [
      "Collecting sktime\r\n",
      "  Using cached sktime-0.38.4-py3-none-any.whl.metadata (35 kB)\r\n",
      "Requirement already satisfied: joblib<1.6,>=1.2.0 in /Users/brigt/PycharmProjects/Syntehic_data/.10venv/lib/python3.10/site-packages (from sktime) (1.5.1)\r\n",
      "Requirement already satisfied: numpy<2.4,>=1.21 in /Users/brigt/PycharmProjects/Syntehic_data/.10venv/lib/python3.10/site-packages (from sktime) (1.26.4)\r\n",
      "Requirement already satisfied: packaging in /Users/brigt/PycharmProjects/Syntehic_data/.10venv/lib/python3.10/site-packages (from sktime) (25.0)\r\n",
      "Requirement already satisfied: pandas<2.4.0,>=1.1 in /Users/brigt/PycharmProjects/Syntehic_data/.10venv/lib/python3.10/site-packages (from sktime) (2.3.1)\r\n",
      "Collecting scikit-base<0.13.0,>=0.6.1 (from sktime)\r\n",
      "  Using cached scikit_base-0.12.4-py3-none-any.whl.metadata (8.8 kB)\r\n",
      "Requirement already satisfied: scikit-learn<1.8.0,>=0.24 in /Users/brigt/PycharmProjects/Syntehic_data/.10venv/lib/python3.10/site-packages (from sktime) (1.7.1)\r\n",
      "Requirement already satisfied: scipy<2.0.0,>=1.2 in /Users/brigt/PycharmProjects/Syntehic_data/.10venv/lib/python3.10/site-packages (from sktime) (1.15.3)\r\n",
      "Requirement already satisfied: python-dateutil>=2.8.2 in /Users/brigt/PycharmProjects/Syntehic_data/.10venv/lib/python3.10/site-packages (from pandas<2.4.0,>=1.1->sktime) (2.9.0.post0)\r\n",
      "Requirement already satisfied: pytz>=2020.1 in /Users/brigt/PycharmProjects/Syntehic_data/.10venv/lib/python3.10/site-packages (from pandas<2.4.0,>=1.1->sktime) (2025.2)\r\n",
      "Requirement already satisfied: tzdata>=2022.7 in /Users/brigt/PycharmProjects/Syntehic_data/.10venv/lib/python3.10/site-packages (from pandas<2.4.0,>=1.1->sktime) (2025.2)\r\n",
      "Requirement already satisfied: threadpoolctl>=3.1.0 in /Users/brigt/PycharmProjects/Syntehic_data/.10venv/lib/python3.10/site-packages (from scikit-learn<1.8.0,>=0.24->sktime) (3.6.0)\r\n",
      "Requirement already satisfied: six>=1.5 in /Users/brigt/PycharmProjects/Syntehic_data/.10venv/lib/python3.10/site-packages (from python-dateutil>=2.8.2->pandas<2.4.0,>=1.1->sktime) (1.17.0)\r\n",
      "Using cached sktime-0.38.4-py3-none-any.whl (35.5 MB)\r\n",
      "Using cached scikit_base-0.12.4-py3-none-any.whl (145 kB)\r\n",
      "Installing collected packages: scikit-base, sktime\r\n",
      "\u001B[2K   \u001B[90m━━━━━━━━━━━━━━━━━━━━━━━━━━━━━━━━━━━━━━━━\u001B[0m \u001B[32m2/2\u001B[0m [sktime]2m1/2\u001B[0m [sktime]\r\n",
      "\u001B[1A\u001B[2KSuccessfully installed scikit-base-0.12.4 sktime-0.38.4\r\n"
     ]
    }
   ],
   "execution_count": 2
  },
  {
   "metadata": {
    "ExecuteTime": {
     "end_time": "2025-08-12T12:53:10.096568Z",
     "start_time": "2025-08-12T12:53:07.057803Z"
    }
   },
   "cell_type": "code",
   "source": [
    "from sktime.datasets import load_italy_power_demand\n",
    "\n",
    "# load an example time series panel in pd-multiindex mtype\n",
    "X, _ = load_italy_power_demand(return_type=\"pd-multiindex\")\n",
    "\n",
    "# renaming columns for illustrative purposes\n",
    "X.columns = [\"total_power_demand\"]\n",
    "X.index.names = [\"day_ID\", \"hour_of_day\"]"
   ],
   "id": "37b587b918ec525e",
   "outputs": [],
   "execution_count": 3
  },
  {
   "metadata": {
    "ExecuteTime": {
     "end_time": "2025-08-12T12:53:10.813959Z",
     "start_time": "2025-08-12T12:53:10.811751Z"
    }
   },
   "cell_type": "code",
   "source": "",
   "id": "ffa530c877ab9d6b",
   "outputs": [],
   "execution_count": null
  },
  {
   "metadata": {
    "ExecuteTime": {
     "end_time": "2025-08-12T12:53:11.601035Z",
     "start_time": "2025-08-12T12:53:11.588360Z"
    }
   },
   "cell_type": "code",
   "source": "X",
   "id": "c4d119225e0dae48",
   "outputs": [
    {
     "data": {
      "text/plain": [
       "                    total_power_demand\n",
       "day_ID hour_of_day                    \n",
       "0      0                     -0.710518\n",
       "       1                     -1.183320\n",
       "       2                     -1.372442\n",
       "       3                     -1.593083\n",
       "       4                     -1.467002\n",
       "...                                ...\n",
       "1095   19                     0.180490\n",
       "       20                    -0.094058\n",
       "       21                     0.729587\n",
       "       22                     0.210995\n",
       "       23                    -0.002542\n",
       "\n",
       "[26304 rows x 1 columns]"
      ],
      "text/html": [
       "<div>\n",
       "<style scoped>\n",
       "    .dataframe tbody tr th:only-of-type {\n",
       "        vertical-align: middle;\n",
       "    }\n",
       "\n",
       "    .dataframe tbody tr th {\n",
       "        vertical-align: top;\n",
       "    }\n",
       "\n",
       "    .dataframe thead th {\n",
       "        text-align: right;\n",
       "    }\n",
       "</style>\n",
       "<table border=\"1\" class=\"dataframe\">\n",
       "  <thead>\n",
       "    <tr style=\"text-align: right;\">\n",
       "      <th></th>\n",
       "      <th></th>\n",
       "      <th>total_power_demand</th>\n",
       "    </tr>\n",
       "    <tr>\n",
       "      <th>day_ID</th>\n",
       "      <th>hour_of_day</th>\n",
       "      <th></th>\n",
       "    </tr>\n",
       "  </thead>\n",
       "  <tbody>\n",
       "    <tr>\n",
       "      <th rowspan=\"5\" valign=\"top\">0</th>\n",
       "      <th>0</th>\n",
       "      <td>-0.710518</td>\n",
       "    </tr>\n",
       "    <tr>\n",
       "      <th>1</th>\n",
       "      <td>-1.183320</td>\n",
       "    </tr>\n",
       "    <tr>\n",
       "      <th>2</th>\n",
       "      <td>-1.372442</td>\n",
       "    </tr>\n",
       "    <tr>\n",
       "      <th>3</th>\n",
       "      <td>-1.593083</td>\n",
       "    </tr>\n",
       "    <tr>\n",
       "      <th>4</th>\n",
       "      <td>-1.467002</td>\n",
       "    </tr>\n",
       "    <tr>\n",
       "      <th>...</th>\n",
       "      <th>...</th>\n",
       "      <td>...</td>\n",
       "    </tr>\n",
       "    <tr>\n",
       "      <th rowspan=\"5\" valign=\"top\">1095</th>\n",
       "      <th>19</th>\n",
       "      <td>0.180490</td>\n",
       "    </tr>\n",
       "    <tr>\n",
       "      <th>20</th>\n",
       "      <td>-0.094058</td>\n",
       "    </tr>\n",
       "    <tr>\n",
       "      <th>21</th>\n",
       "      <td>0.729587</td>\n",
       "    </tr>\n",
       "    <tr>\n",
       "      <th>22</th>\n",
       "      <td>0.210995</td>\n",
       "    </tr>\n",
       "    <tr>\n",
       "      <th>23</th>\n",
       "      <td>-0.002542</td>\n",
       "    </tr>\n",
       "  </tbody>\n",
       "</table>\n",
       "<p>26304 rows × 1 columns</p>\n",
       "</div>"
      ]
     },
     "execution_count": 4,
     "metadata": {},
     "output_type": "execute_result"
    }
   ],
   "execution_count": 4
  },
  {
   "metadata": {
    "ExecuteTime": {
     "end_time": "2025-08-12T12:53:12.570451Z",
     "start_time": "2025-08-12T12:53:12.523588Z"
    }
   },
   "cell_type": "code",
   "source": [
    "from sktime.datasets import load_basic_motions\n",
    "\n",
    "# load an example time series panel in pd-multiindex mtype\n",
    "X, _ = load_basic_motions(return_type=\"pd-multiindex\")\n",
    "\n",
    "# renaming columns for illustrative purposes\n",
    "X.columns = [\"accel_1\", \"accel_2\", \"accel_3\", \"gyro_1\", \"gyro_2\", \"gyro_3\"]\n",
    "X.index.names = [\"trial_no\", \"timepoint\"]"
   ],
   "id": "c1a458dcf2cfe451",
   "outputs": [],
   "execution_count": 5
  },
  {
   "metadata": {
    "ExecuteTime": {
     "end_time": "2025-08-12T12:53:14.018119Z",
     "start_time": "2025-08-12T12:53:14.007320Z"
    }
   },
   "cell_type": "code",
   "source": "X.head()",
   "id": "d45413765ef28ff",
   "outputs": [
    {
     "data": {
      "text/plain": [
       "                     accel_1   accel_2   accel_3    gyro_1    gyro_2    gyro_3\n",
       "trial_no timepoint                                                            \n",
       "0        0          0.079106  0.394032  0.551444  0.351565  0.023970  0.633883\n",
       "         1          0.079106  0.394032  0.551444  0.351565  0.023970  0.633883\n",
       "         2         -0.903497 -3.666397 -0.282844 -0.095881 -0.319605  0.972131\n",
       "         3          1.116125 -0.656101  0.333118  1.624657 -0.569962  1.209171\n",
       "         4          1.638200  1.405135  0.393875  1.187864 -0.271664  1.739182"
      ],
      "text/html": [
       "<div>\n",
       "<style scoped>\n",
       "    .dataframe tbody tr th:only-of-type {\n",
       "        vertical-align: middle;\n",
       "    }\n",
       "\n",
       "    .dataframe tbody tr th {\n",
       "        vertical-align: top;\n",
       "    }\n",
       "\n",
       "    .dataframe thead th {\n",
       "        text-align: right;\n",
       "    }\n",
       "</style>\n",
       "<table border=\"1\" class=\"dataframe\">\n",
       "  <thead>\n",
       "    <tr style=\"text-align: right;\">\n",
       "      <th></th>\n",
       "      <th></th>\n",
       "      <th>accel_1</th>\n",
       "      <th>accel_2</th>\n",
       "      <th>accel_3</th>\n",
       "      <th>gyro_1</th>\n",
       "      <th>gyro_2</th>\n",
       "      <th>gyro_3</th>\n",
       "    </tr>\n",
       "    <tr>\n",
       "      <th>trial_no</th>\n",
       "      <th>timepoint</th>\n",
       "      <th></th>\n",
       "      <th></th>\n",
       "      <th></th>\n",
       "      <th></th>\n",
       "      <th></th>\n",
       "      <th></th>\n",
       "    </tr>\n",
       "  </thead>\n",
       "  <tbody>\n",
       "    <tr>\n",
       "      <th rowspan=\"5\" valign=\"top\">0</th>\n",
       "      <th>0</th>\n",
       "      <td>0.079106</td>\n",
       "      <td>0.394032</td>\n",
       "      <td>0.551444</td>\n",
       "      <td>0.351565</td>\n",
       "      <td>0.023970</td>\n",
       "      <td>0.633883</td>\n",
       "    </tr>\n",
       "    <tr>\n",
       "      <th>1</th>\n",
       "      <td>0.079106</td>\n",
       "      <td>0.394032</td>\n",
       "      <td>0.551444</td>\n",
       "      <td>0.351565</td>\n",
       "      <td>0.023970</td>\n",
       "      <td>0.633883</td>\n",
       "    </tr>\n",
       "    <tr>\n",
       "      <th>2</th>\n",
       "      <td>-0.903497</td>\n",
       "      <td>-3.666397</td>\n",
       "      <td>-0.282844</td>\n",
       "      <td>-0.095881</td>\n",
       "      <td>-0.319605</td>\n",
       "      <td>0.972131</td>\n",
       "    </tr>\n",
       "    <tr>\n",
       "      <th>3</th>\n",
       "      <td>1.116125</td>\n",
       "      <td>-0.656101</td>\n",
       "      <td>0.333118</td>\n",
       "      <td>1.624657</td>\n",
       "      <td>-0.569962</td>\n",
       "      <td>1.209171</td>\n",
       "    </tr>\n",
       "    <tr>\n",
       "      <th>4</th>\n",
       "      <td>1.638200</td>\n",
       "      <td>1.405135</td>\n",
       "      <td>0.393875</td>\n",
       "      <td>1.187864</td>\n",
       "      <td>-0.271664</td>\n",
       "      <td>1.739182</td>\n",
       "    </tr>\n",
       "  </tbody>\n",
       "</table>\n",
       "</div>"
      ]
     },
     "execution_count": 6,
     "metadata": {},
     "output_type": "execute_result"
    }
   ],
   "execution_count": 6
  },
  {
   "metadata": {
    "ExecuteTime": {
     "end_time": "2025-08-12T12:53:14.617564Z",
     "start_time": "2025-08-12T12:53:14.608727Z"
    }
   },
   "cell_type": "code",
   "source": "X.loc[0, \"gyro_1\"]\n",
   "id": "a09ce1840d05c96",
   "outputs": [
    {
     "data": {
      "text/plain": [
       "timepoint\n",
       "0     0.351565\n",
       "1     0.351565\n",
       "2    -0.095881\n",
       "3     1.624657\n",
       "4     1.187864\n",
       "        ...   \n",
       "95    0.039951\n",
       "96   -0.029297\n",
       "97    0.000000\n",
       "98    0.000000\n",
       "99   -0.007990\n",
       "Name: gyro_1, Length: 100, dtype: float64"
      ]
     },
     "execution_count": 7,
     "metadata": {},
     "output_type": "execute_result"
    }
   ],
   "execution_count": 7
  },
  {
   "metadata": {
    "ExecuteTime": {
     "end_time": "2025-08-12T12:53:15.508739Z",
     "start_time": "2025-08-12T12:53:15.355473Z"
    }
   },
   "cell_type": "code",
   "source": [
    "from sktime.datasets import load_italy_power_demand\n",
    "\n",
    "# load an example time series panel in numpy mtype\n",
    "X, _ = load_italy_power_demand(return_type=\"numpy3D\")"
   ],
   "id": "8b548bd969d38e95",
   "outputs": [],
   "execution_count": 8
  },
  {
   "metadata": {
    "ExecuteTime": {
     "end_time": "2025-08-12T12:53:15.787690Z",
     "start_time": "2025-08-12T12:53:15.782411Z"
    }
   },
   "cell_type": "code",
   "source": "X.shape",
   "id": "33444c060177cd5f",
   "outputs": [
    {
     "data": {
      "text/plain": [
       "(1096, 1, 24)"
      ]
     },
     "execution_count": 9,
     "metadata": {},
     "output_type": "execute_result"
    }
   ],
   "execution_count": 9
  },
  {
   "metadata": {
    "ExecuteTime": {
     "end_time": "2025-08-12T12:53:16.368858Z",
     "start_time": "2025-08-12T12:53:16.323183Z"
    }
   },
   "cell_type": "code",
   "source": [
    "# steps 1, 2 - prepare osuleaf dataset (train and new)\n",
    "from sktime.datasets import load_italy_power_demand\n",
    "\n",
    "X_train, y_train = load_italy_power_demand(split=\"train\", return_type=\"numpy3D\")\n",
    "X_new, _ = load_italy_power_demand(split=\"test\", return_type=\"numpy3D\")"
   ],
   "id": "da4e4b4671142492",
   "outputs": [],
   "execution_count": 10
  },
  {
   "metadata": {
    "ExecuteTime": {
     "end_time": "2025-08-12T12:53:16.855538Z",
     "start_time": "2025-08-12T12:53:16.850794Z"
    }
   },
   "cell_type": "code",
   "source": "X_train.shape\n",
   "id": "f019ce96e375d562",
   "outputs": [
    {
     "data": {
      "text/plain": [
       "(67, 1, 24)"
      ]
     },
     "execution_count": 11,
     "metadata": {},
     "output_type": "execute_result"
    }
   ],
   "execution_count": 11
  },
  {
   "metadata": {
    "ExecuteTime": {
     "end_time": "2025-08-12T12:53:17.419368Z",
     "start_time": "2025-08-12T12:53:17.414897Z"
    }
   },
   "cell_type": "code",
   "source": "y_train.shape\n",
   "id": "82d2cc6429ca4e10",
   "outputs": [
    {
     "data": {
      "text/plain": [
       "(67,)"
      ]
     },
     "execution_count": 12,
     "metadata": {},
     "output_type": "execute_result"
    }
   ],
   "execution_count": 12
  },
  {
   "metadata": {
    "ExecuteTime": {
     "end_time": "2025-08-12T12:53:17.882535Z",
     "start_time": "2025-08-12T12:53:17.872748Z"
    }
   },
   "cell_type": "code",
   "source": [
    "# step 3 - specify the classifier\n",
    "from sktime.transformations.panel.rocket import Rocket\n",
    "# example 1 - 3-NN with simple dynamic time warping distance (requires numba)\n",
    "clf = Rocket(num_kernels=256)\n",
    "\n",
    "# example 2 - custom distance:\n",
    "# 3-nearest neighbour classifier with Euclidean distance (on flattened time series)\n",
    "# (requires scipy)"
   ],
   "id": "dd477804c24401f",
   "outputs": [],
   "execution_count": 13
  },
  {
   "metadata": {
    "ExecuteTime": {
     "end_time": "2025-08-12T12:53:18.506656Z",
     "start_time": "2025-08-12T12:53:18.501519Z"
    }
   },
   "cell_type": "code",
   "source": "clf.get_params()",
   "id": "87688025f5555777",
   "outputs": [
    {
     "data": {
      "text/plain": [
       "{'n_jobs': 1, 'normalise': True, 'num_kernels': 256, 'random_state': None}"
      ]
     },
     "execution_count": 14,
     "metadata": {},
     "output_type": "execute_result"
    }
   ],
   "execution_count": 14
  },
  {
   "metadata": {
    "ExecuteTime": {
     "end_time": "2025-08-12T12:53:38.805506Z",
     "start_time": "2025-08-12T12:53:18.972881Z"
    }
   },
   "cell_type": "code",
   "source": "clf.fit(X_train, y_train)\n",
   "id": "32c578417e05a56b",
   "outputs": [
    {
     "data": {
      "text/plain": [
       "Rocket(num_kernels=256)"
      ],
      "text/html": [
       "<style>#sk-f373e7ee-4ffb-4df5-86b9-1def822fca14 {\n",
       "    /* Definition of color scheme common for light and dark mode */\n",
       "    --sklearn-color-text: black;\n",
       "    --sklearn-color-line: gray;\n",
       "    /* Definition of color scheme for objects */\n",
       "    --sklearn-color-level-0: #fff5e6;\n",
       "    --sklearn-color-level-1: #f6e4d2;\n",
       "    --sklearn-color-level-2: #ffe0b3;\n",
       "    --sklearn-color-level-3: chocolate;\n",
       "\n",
       "    /* Specific color for light theme */\n",
       "    --sklearn-color-text-on-default-background: var(--theme-code-foreground, var(--jp-content-font-color1, black));\n",
       "    --sklearn-color-background: var(--theme-background, var(--jp-layout-color0, white));\n",
       "    --sklearn-color-border-box: var(--theme-code-foreground, var(--jp-content-font-color1, black));\n",
       "    --sklearn-color-icon: #696969;\n",
       "\n",
       "    @media (prefers-color-scheme: dark) {\n",
       "      /* Redefinition of color scheme for dark theme */\n",
       "      --sklearn-color-text-on-default-background: var(--theme-code-foreground, var(--jp-content-font-color1, white));\n",
       "      --sklearn-color-background: var(--theme-background, var(--jp-layout-color0, #111));\n",
       "      --sklearn-color-border-box: var(--theme-code-foreground, var(--jp-content-font-color1, white));\n",
       "      --sklearn-color-icon: #878787;\n",
       "    }\n",
       "  }\n",
       "\n",
       "  #sk-f373e7ee-4ffb-4df5-86b9-1def822fca14 {\n",
       "    color: var(--sklearn-color-text);\n",
       "  }\n",
       "\n",
       "  #sk-f373e7ee-4ffb-4df5-86b9-1def822fca14 pre {\n",
       "    padding: 0;\n",
       "  }\n",
       "\n",
       "  #sk-f373e7ee-4ffb-4df5-86b9-1def822fca14 input.sk-hidden--visually {\n",
       "    border: 0;\n",
       "    clip: rect(1px 1px 1px 1px);\n",
       "    clip: rect(1px, 1px, 1px, 1px);\n",
       "    height: 1px;\n",
       "    margin: -1px;\n",
       "    overflow: hidden;\n",
       "    padding: 0;\n",
       "    position: absolute;\n",
       "    width: 1px;\n",
       "  }\n",
       "\n",
       "  #sk-f373e7ee-4ffb-4df5-86b9-1def822fca14 div.sk-dashed-wrapped {\n",
       "    border: 1px dashed var(--sklearn-color-line);\n",
       "    margin: 0 0.4em 0.5em 0.4em;\n",
       "    box-sizing: border-box;\n",
       "    padding-bottom: 0.4em;\n",
       "    background-color: var(--sklearn-color-background);\n",
       "  }\n",
       "\n",
       "  #sk-f373e7ee-4ffb-4df5-86b9-1def822fca14 div.sk-container {\n",
       "    /* jupyter's `normalize.less` sets `[hidden] { display: none; }`\n",
       "       but bootstrap.min.css set `[hidden] { display: none !important; }`\n",
       "       so we also need the `!important` here to be able to override the\n",
       "       default hidden behavior on the sphinx rendered scikit-learn.org.\n",
       "       See: https://github.com/scikit-learn/scikit-learn/issues/21755 */\n",
       "    display: inline-block !important;\n",
       "    position: relative;\n",
       "  }\n",
       "\n",
       "  #sk-f373e7ee-4ffb-4df5-86b9-1def822fca14 div.sk-text-repr-fallback {\n",
       "    display: none;\n",
       "  }\n",
       "\n",
       "  div.sk-parallel-item,\n",
       "  div.sk-serial,\n",
       "  div.sk-item {\n",
       "    /* draw centered vertical line to link estimators */\n",
       "    background-image: linear-gradient(var(--sklearn-color-text-on-default-background), var(--sklearn-color-text-on-default-background));\n",
       "    background-size: 2px 100%;\n",
       "    background-repeat: no-repeat;\n",
       "    background-position: center center;\n",
       "  }\n",
       "\n",
       "  /* Parallel-specific style estimator block */\n",
       "\n",
       "  #sk-f373e7ee-4ffb-4df5-86b9-1def822fca14 div.sk-parallel-item::after {\n",
       "    content: \"\";\n",
       "    width: 100%;\n",
       "    border-bottom: 2px solid var(--sklearn-color-text-on-default-background);\n",
       "    flex-grow: 1;\n",
       "  }\n",
       "\n",
       "  #sk-f373e7ee-4ffb-4df5-86b9-1def822fca14 div.sk-parallel {\n",
       "    display: flex;\n",
       "    align-items: stretch;\n",
       "    justify-content: center;\n",
       "    background-color: var(--sklearn-color-background);\n",
       "    position: relative;\n",
       "  }\n",
       "\n",
       "  #sk-f373e7ee-4ffb-4df5-86b9-1def822fca14 div.sk-parallel-item {\n",
       "    display: flex;\n",
       "    flex-direction: column;\n",
       "  }\n",
       "\n",
       "  #sk-f373e7ee-4ffb-4df5-86b9-1def822fca14 div.sk-parallel-item:first-child::after {\n",
       "    align-self: flex-end;\n",
       "    width: 50%;\n",
       "  }\n",
       "\n",
       "  #sk-f373e7ee-4ffb-4df5-86b9-1def822fca14 div.sk-parallel-item:last-child::after {\n",
       "    align-self: flex-start;\n",
       "    width: 50%;\n",
       "  }\n",
       "\n",
       "  #sk-f373e7ee-4ffb-4df5-86b9-1def822fca14 div.sk-parallel-item:only-child::after {\n",
       "    width: 0;\n",
       "  }\n",
       "\n",
       "  /* Serial-specific style estimator block */\n",
       "\n",
       "  #sk-f373e7ee-4ffb-4df5-86b9-1def822fca14 div.sk-serial {\n",
       "    display: flex;\n",
       "    flex-direction: column;\n",
       "    align-items: center;\n",
       "    background-color: var(--sklearn-color-background);\n",
       "    padding-right: 1em;\n",
       "    padding-left: 1em;\n",
       "  }\n",
       "\n",
       "\n",
       "  /* Toggleable style: style used for estimator/Pipeline/ColumnTransformer box that is\n",
       "  clickable and can be expanded/collapsed.\n",
       "  - Pipeline and ColumnTransformer use this feature and define the default style\n",
       "  - Estimators will overwrite some part of the style using the `sk-estimator` class\n",
       "  */\n",
       "\n",
       "  /* Pipeline and ColumnTransformer style (default) */\n",
       "\n",
       "  #sk-f373e7ee-4ffb-4df5-86b9-1def822fca14 div.sk-toggleable {\n",
       "    /* Default theme specific background. It is overwritten whether we have a\n",
       "    specific estimator or a Pipeline/ColumnTransformer */\n",
       "    background-color: var(--sklearn-color-background);\n",
       "  }\n",
       "\n",
       "  /* Toggleable label */\n",
       "  #sk-f373e7ee-4ffb-4df5-86b9-1def822fca14 label.sk-toggleable__label {\n",
       "    cursor: pointer;\n",
       "    display: block;\n",
       "    width: 100%;\n",
       "    margin-bottom: 0;\n",
       "    padding: 0.5em;\n",
       "    box-sizing: border-box;\n",
       "    text-align: center;\n",
       "  }\n",
       "\n",
       "  #sk-f373e7ee-4ffb-4df5-86b9-1def822fca14 label.sk-toggleable__label-arrow:before {\n",
       "    /* Arrow on the left of the label */\n",
       "    content: \"▸\";\n",
       "    float: left;\n",
       "    margin-right: 0.25em;\n",
       "    color: var(--sklearn-color-icon);\n",
       "  }\n",
       "\n",
       "  #sk-f373e7ee-4ffb-4df5-86b9-1def822fca14 label.sk-toggleable__label-arrow:hover:before {\n",
       "    color: var(--sklearn-color-text);\n",
       "  }\n",
       "\n",
       "  /* Toggleable content - dropdown */\n",
       "\n",
       "  #sk-f373e7ee-4ffb-4df5-86b9-1def822fca14 div.sk-toggleable__content {\n",
       "    max-height: 0;\n",
       "    max-width: 0;\n",
       "    overflow: hidden;\n",
       "    text-align: left;\n",
       "    background-color: var(--sklearn-color-level-0);\n",
       "  }\n",
       "\n",
       "  #sk-f373e7ee-4ffb-4df5-86b9-1def822fca14 div.sk-toggleable__content pre {\n",
       "    margin: 0.2em;\n",
       "    border-radius: 0.25em;\n",
       "    color: var(--sklearn-color-text);\n",
       "    background-color: var(--sklearn-color-level-0);\n",
       "  }\n",
       "\n",
       "  #sk-f373e7ee-4ffb-4df5-86b9-1def822fca14 input.sk-toggleable__control:checked~div.sk-toggleable__content {\n",
       "    /* Expand drop-down */\n",
       "    max-height: 200px;\n",
       "    max-width: 100%;\n",
       "    overflow: auto;\n",
       "  }\n",
       "\n",
       "  #sk-f373e7ee-4ffb-4df5-86b9-1def822fca14 input.sk-toggleable__control:checked~label.sk-toggleable__label-arrow:before {\n",
       "    content: \"▾\";\n",
       "  }\n",
       "\n",
       "  /* Pipeline/ColumnTransformer-specific style */\n",
       "\n",
       "  #sk-f373e7ee-4ffb-4df5-86b9-1def822fca14 div.sk-label input.sk-toggleable__control:checked~label.sk-toggleable__label {\n",
       "    color: var(--sklearn-color-text);\n",
       "    background-color: var(--sklearn-color-level-2);\n",
       "  }\n",
       "\n",
       "  /* Estimator-specific style */\n",
       "\n",
       "  /* Colorize estimator box */\n",
       "  #sk-f373e7ee-4ffb-4df5-86b9-1def822fca14 div.sk-estimator input.sk-toggleable__control:checked~label.sk-toggleable__label {\n",
       "    /* unfitted */\n",
       "    background-color: var(--sklearn-color-level-2);\n",
       "  }\n",
       "\n",
       "  #sk-f373e7ee-4ffb-4df5-86b9-1def822fca14 div.sk-label label.sk-toggleable__label,\n",
       "  #sk-f373e7ee-4ffb-4df5-86b9-1def822fca14 div.sk-label label {\n",
       "    /* The background is the default theme color */\n",
       "    color: var(--sklearn-color-text-on-default-background);\n",
       "  }\n",
       "\n",
       "  /* On hover, darken the color of the background */\n",
       "  #sk-f373e7ee-4ffb-4df5-86b9-1def822fca14 div.sk-label:hover label.sk-toggleable__label {\n",
       "    color: var(--sklearn-color-text);\n",
       "    background-color: var(--sklearn-color-level-2);\n",
       "  }\n",
       "\n",
       "  /* Estimator label */\n",
       "\n",
       "  #sk-f373e7ee-4ffb-4df5-86b9-1def822fca14 div.sk-label label {\n",
       "    font-family: monospace;\n",
       "    font-weight: bold;\n",
       "    display: inline-block;\n",
       "    line-height: 1.2em;\n",
       "  }\n",
       "\n",
       "  #sk-f373e7ee-4ffb-4df5-86b9-1def822fca14 div.sk-label-container {\n",
       "    text-align: center;\n",
       "  }\n",
       "\n",
       "  /* Estimator-specific */\n",
       "  #sk-f373e7ee-4ffb-4df5-86b9-1def822fca14 div.sk-estimator {\n",
       "    font-family: monospace;\n",
       "    border: 1px dotted var(--sklearn-color-border-box);\n",
       "    border-radius: 0.25em;\n",
       "    box-sizing: border-box;\n",
       "    margin-bottom: 0.5em;\n",
       "    background-color: var(--sklearn-color-level-0);\n",
       "  }\n",
       "\n",
       "  /* on hover */\n",
       "  #sk-f373e7ee-4ffb-4df5-86b9-1def822fca14 div.sk-estimator:hover {\n",
       "    background-color: var(--sklearn-color-level-2);\n",
       "  }\n",
       "\n",
       "  /* Specification for estimator info */\n",
       "\n",
       "  .sk-estimator-doc-link,\n",
       "  a:link.sk-estimator-doc-link,\n",
       "  a:visited.sk-estimator-doc-link {\n",
       "    float: right;\n",
       "    font-size: smaller;\n",
       "    line-height: 1em;\n",
       "    font-family: monospace;\n",
       "    background-color: var(--sklearn-color-background);\n",
       "    border-radius: 1em;\n",
       "    height: 1em;\n",
       "    width: 1em;\n",
       "    text-decoration: none !important;\n",
       "    margin-left: 1ex;\n",
       "    border: var(--sklearn-color-level-1) 1pt solid;\n",
       "    color: var(--sklearn-color-level-1);\n",
       "  }\n",
       "\n",
       "  /* On hover */\n",
       "  div.sk-estimator:hover .sk-estimator-doc-link:hover,\n",
       "  .sk-estimator-doc-link:hover,\n",
       "  div.sk-label-container:hover .sk-estimator-doc-link:hover,\n",
       "  .sk-estimator-doc-link:hover {\n",
       "    background-color: var(--sklearn-color-level-3);\n",
       "    color: var(--sklearn-color-background);\n",
       "    text-decoration: none;\n",
       "  }\n",
       "\n",
       "  /* Span, style for the box shown on hovering the info icon */\n",
       "  .sk-estimator-doc-link span {\n",
       "    display: none;\n",
       "    z-index: 9999;\n",
       "    position: relative;\n",
       "    font-weight: normal;\n",
       "    right: .2ex;\n",
       "    padding: .5ex;\n",
       "    margin: .5ex;\n",
       "    width: min-content;\n",
       "    min-width: 20ex;\n",
       "    max-width: 50ex;\n",
       "    color: var(--sklearn-color-text);\n",
       "    box-shadow: 2pt 2pt 4pt #999;\n",
       "    background: var(--sklearn-color-level-0);\n",
       "    border: .5pt solid var(--sklearn-color-level-3);\n",
       "  }\n",
       "\n",
       "  .sk-estimator-doc-link:hover span {\n",
       "    display: block;\n",
       "  }\n",
       "\n",
       "  /* \"?\"-specific style due to the `<a>` HTML tag */\n",
       "\n",
       "  #sk-f373e7ee-4ffb-4df5-86b9-1def822fca14 a.estimator_doc_link {\n",
       "    float: right;\n",
       "    font-size: 1rem;\n",
       "    line-height: 1em;\n",
       "    font-family: monospace;\n",
       "    background-color: var(--sklearn-color-background);\n",
       "    border-radius: 1rem;\n",
       "    height: 1rem;\n",
       "    width: 1rem;\n",
       "    text-decoration: none;\n",
       "    color: var(--sklearn-color-level-1);\n",
       "    border: var(--sklearn-color-level-1) 1pt solid;\n",
       "  }\n",
       "\n",
       "  /* On hover */\n",
       "  #sk-f373e7ee-4ffb-4df5-86b9-1def822fca14 a.estimator_doc_link:hover {\n",
       "    background-color: var(--sklearn-color-level-3);\n",
       "    color: var(--sklearn-color-background);\n",
       "    text-decoration: none;\n",
       "  }\n",
       "</style><div id='sk-f373e7ee-4ffb-4df5-86b9-1def822fca14' class=\"sk-top-container\"><div class=\"sk-text-repr-fallback\"><pre>Rocket(num_kernels=256)</pre><b>Please rerun this cell to show the HTML repr or trust the notebook.</b></div><div class=\"sk-container\" hidden><div class='sk-item'><div class=\"sk-estimator sk-toggleable\"><input class=\"sk-toggleable__control sk-hidden--visually\" id=UUID('aa3ca64d-060f-44f8-a6a6-c68ad2c40ac1') type=\"checkbox\" checked><label for=UUID('aa3ca64d-060f-44f8-a6a6-c68ad2c40ac1') class='sk-toggleable__label sk-toggleable__label-arrow'>Rocket<a class=\"sk-estimator-doc-link\" rel=\"noreferrer\" target=\"_blank\" href=\"https://www.sktime.net/en/v0.38.4/api_reference/auto_generated/sktime.transformations.panel.rocket.Rocket.html\">?<span>Documentation for Rocket</span></a></label><div class=\"sk-toggleable__content\"><pre>Rocket(num_kernels=256)</pre></div></div></div></div></div>"
      ]
     },
     "execution_count": 15,
     "metadata": {},
     "output_type": "execute_result"
    }
   ],
   "execution_count": 15
  },
  {
   "metadata": {
    "ExecuteTime": {
     "end_time": "2025-08-07T09:06:56.381304Z",
     "start_time": "2025-08-07T09:06:56.374379Z"
    }
   },
   "cell_type": "code",
   "source": "clf.get_fitted_params()\n",
   "id": "e9fc919ed68c19b3",
   "outputs": [
    {
     "data": {
      "text/plain": [
       "{'classes': array(['1', '2'], dtype='<U1'),\n",
       " 'fit_time': 117,\n",
       " 'knn_estimator': KNeighborsClassifier(algorithm='brute', metric='precomputed', n_neighbors=3),\n",
       " 'n_classes': 2,\n",
       " 'knn_estimator__classes': array(['1', '2'], dtype='<U1'),\n",
       " 'knn_estimator__effective_metric': 'precomputed',\n",
       " 'knn_estimator__effective_metric_params': {},\n",
       " 'knn_estimator__n_features_in': 67,\n",
       " 'knn_estimator__n_samples_fit': 67,\n",
       " 'knn_estimator__outputs_2d': False}"
      ]
     },
     "execution_count": 19,
     "metadata": {},
     "output_type": "execute_result"
    }
   ],
   "execution_count": 19
  },
  {
   "metadata": {
    "ExecuteTime": {
     "end_time": "2025-08-07T09:07:01.547243Z",
     "start_time": "2025-08-07T09:07:01.532539Z"
    }
   },
   "cell_type": "code",
   "source": "y_pred = clf.predict(X_new)\n",
   "id": "7085067937780acd",
   "outputs": [],
   "execution_count": 20
  },
  {
   "metadata": {
    "ExecuteTime": {
     "end_time": "2025-08-07T09:07:12.005780Z",
     "start_time": "2025-08-07T09:07:12.002374Z"
    }
   },
   "cell_type": "code",
   "source": [
    "unique, counts = np.unique(y_pred, return_counts=True)\n",
    "unique, counts"
   ],
   "id": "19ae7275ca26bd01",
   "outputs": [
    {
     "data": {
      "text/plain": [
       "(array(['1', '2'], dtype='<U1'), array([510, 519]))"
      ]
     },
     "execution_count": 21,
     "metadata": {},
     "output_type": "execute_result"
    }
   ],
   "execution_count": 21
  },
  {
   "metadata": {},
   "cell_type": "code",
   "outputs": [],
   "execution_count": null,
   "source": "",
   "id": "317d1a3dd35738a9"
  }
 ],
 "metadata": {
  "kernelspec": {
   "display_name": "Python 3",
   "language": "python",
   "name": "python3"
  },
  "language_info": {
   "codemirror_mode": {
    "name": "ipython",
    "version": 2
   },
   "file_extension": ".py",
   "mimetype": "text/x-python",
   "name": "python",
   "nbconvert_exporter": "python",
   "pygments_lexer": "ipython2",
   "version": "2.7.6"
  }
 },
 "nbformat": 4,
 "nbformat_minor": 5
}
