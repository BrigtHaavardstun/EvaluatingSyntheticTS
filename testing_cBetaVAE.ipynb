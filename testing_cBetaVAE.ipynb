{
 "cells": [
  {
   "metadata": {
    "ExecuteTime": {
     "end_time": "2025-08-12T14:18:20.216529Z",
     "start_time": "2025-08-12T14:18:20.208486Z"
    }
   },
   "cell_type": "code",
   "source": [
    "from utils.dataset import load_dataset\n",
    "import numpy as np\n",
    "from sklearn.preprocessing import MinMaxScaler, StandardScaler\n",
    "import tsgm\n",
    "dataset_name = \"Chinatown\"\n",
    "data = load_dataset(dataset_name, \"TRAIN\")\n",
    "ts_data = data.iloc[:,1:]\n",
    "ts_data = ts_data.to_numpy(dtype=np.float32)\n",
    "org_data_shape = ts_data.shape\n",
    "N  = org_data_shape[0]\n",
    "T = org_data_shape[1]\n",
    "\n",
    "scaler_minmax = True\n",
    "\n",
    "if scaler_minmax:\n",
    "    scaler = MinMaxScaler()\n",
    "    ts_data = scaler.fit_transform(ts_data)\n",
    "ts_data = ts_data.reshape(N, T, 1)\n",
    "\n",
    "if not scaler_minmax:\n",
    "    scaler = tsgm.utils.TSFeatureWiseScaler()\n",
    "    ts_data = scaler.fit_transform(ts_data)\n",
    "\n",
    "\n",
    "\n",
    "ts_data.shape\n"
   ],
   "id": "c2451e6f328994a6",
   "outputs": [
    {
     "data": {
      "text/plain": [
       "(20, 24, 1)"
      ]
     },
     "execution_count": 74,
     "metadata": {},
     "output_type": "execute_result"
    }
   ],
   "execution_count": 74
  },
  {
   "metadata": {
    "ExecuteTime": {
     "end_time": "2025-08-12T14:18:20.837344Z",
     "start_time": "2025-08-12T14:18:20.828302Z"
    }
   },
   "cell_type": "code",
   "source": [
    "import numpy as np\n",
    "from sklearn.preprocessing import OneHotEncoder\n",
    "data = load_dataset(dataset_name, \"TRAIN\")\n",
    "\n",
    "# Suppose labels is a 1D array of length N\n",
    "labels = data.iloc[:, 0].to_numpy()  # shape (N,)\n",
    "unique_labels = np.unique(labels)\n",
    "num_classes = len(unique_labels)\n",
    "\n",
    "enc = OneHotEncoder()\n",
    "labels = enc.fit_transform(labels.reshape(-1, 1)).toarray()\n",
    "labels = np.array(labels,dtype=np.float32)\n",
    "(ny, y) = labels.shape\n",
    "# Initialize encoder (dense output for simplicity)\n",
    "labels.shape"
   ],
   "id": "aef6a60cc7145d77",
   "outputs": [
    {
     "data": {
      "text/plain": [
       "(20, 2)"
      ]
     },
     "execution_count": 75,
     "metadata": {},
     "output_type": "execute_result"
    }
   ],
   "execution_count": 75
  },
  {
   "metadata": {
    "ExecuteTime": {
     "end_time": "2025-08-12T14:18:22.016592Z",
     "start_time": "2025-08-12T14:18:22.015154Z"
    }
   },
   "cell_type": "code",
   "source": "",
   "id": "5a67be1769451f61",
   "outputs": [],
   "execution_count": null
  },
  {
   "metadata": {
    "ExecuteTime": {
     "end_time": "2025-08-12T14:18:24.293048Z",
     "start_time": "2025-08-12T14:18:24.188572Z"
    }
   },
   "cell_type": "code",
   "source": [
    "import tsgm\n",
    "\n",
    "\n",
    "seq_len = T\n",
    "feat_dim = 1\n",
    "latent_dim = 4\n",
    "output_dim = y\n",
    "model_type = tsgm.models.architectures.zoo[\"cvae_conv5\"]\n",
    "arch = model_type(\n",
    "    seq_len=seq_len, feat_dim=feat_dim,\n",
    "    latent_dim=latent_dim, output_dim=output_dim)\n",
    "arch_dict = arch.get()\n",
    "\n",
    "encoder, decoder = arch_dict[\"encoder\"], arch_dict[\"decoder\"]\n",
    "\n",
    "\n",
    "\n",
    "\n",
    "cBetaVae = tsgm.models.cvae.cBetaVAE(encoder=encoder, decoder=decoder,latent_dim=latent_dim, beta=1,temporal=False)\n",
    "\n",
    "cBetaVae.compile(optimizer=\"adam\")"
   ],
   "id": "1028b833d828949d",
   "outputs": [],
   "execution_count": 76
  },
  {
   "metadata": {
    "ExecuteTime": {
     "end_time": "2025-08-12T14:18:26.427924Z",
     "start_time": "2025-08-12T14:18:24.927752Z"
    }
   },
   "cell_type": "code",
   "source": "cBetaVae.fit(x=ts_data,y=labels, epochs=30, batch_size=3)\n",
   "id": "e7bfdc5705ea4afc",
   "outputs": [
    {
     "name": "stdout",
     "output_type": "stream",
     "text": [
      "Epoch 1/30\n",
      "7/7 [==============================] - 1s 4ms/step - loss: 12.4826 - reconstruction_loss: 13.1792 - kl_loss: 0.0052\n",
      "Epoch 2/30\n",
      "7/7 [==============================] - 0s 4ms/step - loss: 12.7495 - reconstruction_loss: 13.0433 - kl_loss: 3.9053e-04\n",
      "Epoch 3/30\n",
      "7/7 [==============================] - 0s 4ms/step - loss: 13.2350 - reconstruction_loss: 12.8618 - kl_loss: 1.5375e-04\n",
      "Epoch 4/30\n",
      "7/7 [==============================] - 0s 4ms/step - loss: 12.9704 - reconstruction_loss: 12.5623 - kl_loss: 1.0134e-04\n",
      "Epoch 5/30\n",
      "7/7 [==============================] - 0s 5ms/step - loss: 13.4458 - reconstruction_loss: 12.0521 - kl_loss: 2.2876e-04\n",
      "Epoch 6/30\n",
      "7/7 [==============================] - 0s 4ms/step - loss: 11.4726 - reconstruction_loss: 11.0874 - kl_loss: 6.2138e-04\n",
      "Epoch 7/30\n",
      "7/7 [==============================] - 0s 4ms/step - loss: 10.9865 - reconstruction_loss: 9.9582 - kl_loss: 0.0015\n",
      "Epoch 8/30\n",
      "7/7 [==============================] - 0s 4ms/step - loss: 10.6957 - reconstruction_loss: 8.8871 - kl_loss: 0.0027\n",
      "Epoch 9/30\n",
      "7/7 [==============================] - 0s 4ms/step - loss: 8.0130 - reconstruction_loss: 8.2459 - kl_loss: 0.0037\n",
      "Epoch 10/30\n",
      "7/7 [==============================] - 0s 4ms/step - loss: 8.8790 - reconstruction_loss: 7.9519 - kl_loss: 0.0041\n",
      "Epoch 11/30\n",
      "7/7 [==============================] - 0s 4ms/step - loss: 8.3656 - reconstruction_loss: 7.6670 - kl_loss: 0.0043\n",
      "Epoch 12/30\n",
      "7/7 [==============================] - 0s 4ms/step - loss: 6.8512 - reconstruction_loss: 7.4055 - kl_loss: 0.0046\n",
      "Epoch 13/30\n",
      "7/7 [==============================] - 0s 4ms/step - loss: 8.3795 - reconstruction_loss: 7.2435 - kl_loss: 0.0048\n",
      "Epoch 14/30\n",
      "7/7 [==============================] - 0s 4ms/step - loss: 7.8886 - reconstruction_loss: 7.1462 - kl_loss: 0.0048\n",
      "Epoch 15/30\n",
      "7/7 [==============================] - 0s 5ms/step - loss: 6.8004 - reconstruction_loss: 7.0943 - kl_loss: 0.0041\n",
      "Epoch 16/30\n",
      "7/7 [==============================] - 0s 4ms/step - loss: 6.5220 - reconstruction_loss: 7.0623 - kl_loss: 0.0034\n",
      "Epoch 17/30\n",
      "7/7 [==============================] - 0s 5ms/step - loss: 7.9122 - reconstruction_loss: 7.0530 - kl_loss: 0.0027\n",
      "Epoch 18/30\n",
      "7/7 [==============================] - 0s 4ms/step - loss: 7.1111 - reconstruction_loss: 7.0519 - kl_loss: 0.0022\n",
      "Epoch 19/30\n",
      "7/7 [==============================] - 0s 4ms/step - loss: 6.7258 - reconstruction_loss: 7.0387 - kl_loss: 0.0017\n",
      "Epoch 20/30\n",
      "7/7 [==============================] - 0s 5ms/step - loss: 6.8619 - reconstruction_loss: 7.0551 - kl_loss: 0.0012\n",
      "Epoch 21/30\n",
      "7/7 [==============================] - 0s 5ms/step - loss: 7.5853 - reconstruction_loss: 7.0592 - kl_loss: 8.8426e-04\n",
      "Epoch 22/30\n",
      "7/7 [==============================] - 0s 4ms/step - loss: 7.6213 - reconstruction_loss: 7.0318 - kl_loss: 6.6268e-04\n",
      "Epoch 23/30\n",
      "7/7 [==============================] - 0s 5ms/step - loss: 8.6560 - reconstruction_loss: 7.0457 - kl_loss: 5.5093e-04\n",
      "Epoch 24/30\n",
      "7/7 [==============================] - 0s 5ms/step - loss: 6.6012 - reconstruction_loss: 7.0340 - kl_loss: 4.2990e-04\n",
      "Epoch 25/30\n",
      "7/7 [==============================] - 0s 4ms/step - loss: 6.9245 - reconstruction_loss: 7.0178 - kl_loss: 3.0701e-04\n",
      "Epoch 26/30\n",
      "7/7 [==============================] - 0s 5ms/step - loss: 7.3760 - reconstruction_loss: 7.0335 - kl_loss: 2.2262e-04\n",
      "Epoch 27/30\n",
      "7/7 [==============================] - 0s 5ms/step - loss: 8.1389 - reconstruction_loss: 7.0289 - kl_loss: 1.7284e-04\n",
      "Epoch 28/30\n",
      "7/7 [==============================] - 0s 5ms/step - loss: 7.3453 - reconstruction_loss: 7.0746 - kl_loss: 1.5850e-04\n",
      "Epoch 29/30\n",
      "7/7 [==============================] - 0s 4ms/step - loss: 7.8845 - reconstruction_loss: 7.0604 - kl_loss: 1.3046e-04\n",
      "Epoch 30/30\n",
      "7/7 [==============================] - 0s 5ms/step - loss: 6.5783 - reconstruction_loss: 7.0421 - kl_loss: 1.0917e-04\n"
     ]
    },
    {
     "data": {
      "text/plain": [
       "<keras.src.callbacks.History at 0x387d3cbb0>"
      ]
     },
     "execution_count": 77,
     "metadata": {},
     "output_type": "execute_result"
    }
   ],
   "execution_count": 77
  },
  {
   "metadata": {
    "ExecuteTime": {
     "end_time": "2025-08-12T14:18:27.140985Z",
     "start_time": "2025-08-12T14:18:27.122291Z"
    }
   },
   "cell_type": "code",
   "source": [
    "nr_samples = 10\n",
    "from tsgm.types import Tensor\n",
    "import tensorflow as tf\n",
    "\n",
    "num_classes = num_classes\n",
    "per_class = nr_samples // num_classes\n",
    "\n",
    "def distribute_items(n, k):\n",
    "    \"\"\"Distribute n items across k bags as evenly as possible\"\"\"\n",
    "    return np.array_split(range(n), k)\n",
    "\n",
    "def distribute_counts(n, k):\n",
    "    \"\"\"Get just the counts per bag\"\"\"\n",
    "    return [len(bag) for bag in distribute_items(n, k)]\n",
    "\n",
    "all_samples = []\n",
    "\n",
    "for i, samples in enumerate(distribute_counts(nr_samples, num_classes)):\n",
    "    for _ in range(samples):\n",
    "        one_hot = [0.0 for _ in range(num_classes)]\n",
    "        one_hot[i] = 1.0\n",
    "        all_samples.append(one_hot)\n",
    "\n",
    "tensor = tf.convert_to_tensor(all_samples)\n",
    "\n",
    "\n",
    "gen_samples, gen_label = cBetaVae.generate(tensor)\n"
   ],
   "id": "c35da290c1dfa67c",
   "outputs": [],
   "execution_count": 78
  },
  {
   "metadata": {
    "ExecuteTime": {
     "end_time": "2025-08-12T14:18:27.679854Z",
     "start_time": "2025-08-12T14:18:27.675530Z"
    }
   },
   "cell_type": "code",
   "source": [
    "\n",
    "gen_data = np.array(gen_samples)\n",
    "print(gen_data.shape)\n",
    "if scaler_minmax:\n",
    "    gen_data = gen_data.reshape(nr_samples,T)\n",
    "gen_data = scaler.inverse_transform(gen_data)\n",
    "\n",
    "print(gen_data.shape)\n",
    "\n",
    "if not scaler_minmax:\n",
    "    gen_data = gen_data.reshape(nr_samples,T)\n",
    "\n"
   ],
   "id": "d32824505905bdf1",
   "outputs": [
    {
     "name": "stdout",
     "output_type": "stream",
     "text": [
      "(10, 24, 1)\n",
      "(10, 24)\n"
     ]
    }
   ],
   "execution_count": 79
  },
  {
   "metadata": {
    "ExecuteTime": {
     "end_time": "2025-08-12T14:18:28.109572Z",
     "start_time": "2025-08-12T14:18:28.107412Z"
    }
   },
   "cell_type": "code",
   "source": "",
   "id": "dae07d7dc393e4f9",
   "outputs": [],
   "execution_count": null
  },
  {
   "metadata": {
    "ExecuteTime": {
     "end_time": "2025-08-12T14:18:28.612540Z",
     "start_time": "2025-08-12T14:18:28.533630Z"
    }
   },
   "cell_type": "code",
   "source": [
    "from matplotlib import pyplot as plt\n",
    "\n",
    "c_to_col = {}\n",
    "for ts,c in zip(gen_data, gen_label):\n",
    "    bool_first = False\n",
    "    if str(c) not in c_to_col:\n",
    "        c_to_col[str(c)] = \"red\" if len(c_to_col) == 0 else \"blue\"\n",
    "        bool_first = True\n",
    "    plt.plot(ts, alpha=0.1, color=c_to_col[str(c)], label=\"Class \" + str(c) if bool_first else \"\")\n",
    "\n",
    "method = \"MinMaxScaler\" if scaler_minmax else \"TSFeatureWiseScaler\"\n",
    "plt.legend()\n",
    "plt.title(\"Generated samples \"  + method)\n",
    "plt.show()\n"
   ],
   "id": "c21217e2c2397e34",
   "outputs": [
    {
     "data": {
      "text/plain": [
       "<Figure size 640x480 with 1 Axes>"
      ],
      "image/png": "[encoded data removed]"
     },
     "metadata": {},
     "output_type": "display_data"
    }
   ],
   "execution_count": 80
  },
  {
   "metadata": {
    "ExecuteTime": {
     "end_time": "2025-08-12T14:11:59.643104Z",
     "start_time": "2025-08-12T14:11:59.639056Z"
    }
   },
   "cell_type": "code",
   "source": [
    "import tsgm\n",
    "tsgm.models.zoo.summary()"
   ],
   "id": "afdceb04801b17a1",
   "outputs": [
    {
     "name": "stdout",
     "output_type": "stream",
     "text": [
      "+-----------------+---------------------------+\n",
      "|        id       |            type           |\n",
      "+-----------------+---------------------------+\n",
      "|    vae_conv5    |     vae:unconditional     |\n",
      "|    cvae_conv5   |      vae:conditional      |\n",
      "| cgan_base_c4_l1 |      gan:conditional      |\n",
      "|    t-cgan_c4    |     gan:t-conditional     |\n",
      "|   cgan_lstm_n   |      gan:conditional      |\n",
      "|   cgan_lstm_3   |      gan:conditional      |\n",
      "|      clf_cn     | downstream:classification |\n",
      "|     clf_cl_n    | downstream:classification |\n",
      "|    clf_block    | downstream:classification |\n",
      "|    recurrent    |      rnn_architecture     |\n",
      "| clf_transformer | downstream:classification |\n",
      "+-----------------+---------------------------+\n"
     ]
    }
   ],
   "execution_count": 60
  },
  {
   "metadata": {},
   "cell_type": "code",
   "source": "",
   "id": "b0a676ac4d12e5c6",
   "outputs": [],
   "execution_count": null
  }
 ],
 "metadata": {
  "kernelspec": {
   "display_name": "Python 3",
   "language": "python",
   "name": "python3"
  },
  "language_info": {
   "codemirror_mode": {
    "name": "ipython",
    "version": 2
   },
   "file_extension": ".py",
   "mimetype": "text/x-python",
   "name": "python",
   "nbconvert_exporter": "python",
   "pygments_lexer": "ipython2",
   "version": "2.7.6"
  }
 },
 "nbformat": 4,
 "nbformat_minor": 5
}
